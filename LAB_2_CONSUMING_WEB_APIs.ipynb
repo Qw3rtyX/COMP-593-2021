{
  "nbformat": 4,
  "nbformat_minor": 0,
  "metadata": {
    "colab": {
      "name": "LAB 2: CONSUMING WEB APIs",
      "provenance": [],
      "include_colab_link": true
    },
    "kernelspec": {
      "name": "python3",
      "display_name": "Python 3"
    }
  },
  "cells": [
    {
      "cell_type": "markdown",
      "metadata": {
        "id": "view-in-github",
        "colab_type": "text"
      },
      "source": [
        "<a href=\"https://colab.research.google.com/github/Qw3rtyX/COMP-593-2021/blob/week%2Ftwo-api-calls/LAB_2_CONSUMING_WEB_APIs.ipynb\" target=\"_parent\"><img src=\"https://colab.research.google.com/assets/colab-badge.svg\" alt=\"Open In Colab\"/></a>"
      ]
    },
    {
      "cell_type": "markdown",
      "metadata": {
        "id": "EoKZy-QeYU0_"
      },
      "source": [
        "#LAB 2: CONSUMING WEB APIs"
      ]
    },
    {
      "cell_type": "markdown",
      "metadata": {
        "id": "ayyh7BuRYfJo"
      },
      "source": [
        "## Making Network Requests\n",
        "To experiment with consuming web APIs, we are going to use a python Library that will allow us to make HTTP requests. There are several options out there, some are more popular than others. The standard choice would be the [requests](https://2.python-requests.org/en/master/) library, but for the purposes of educating you on the finer points of HTTP Messages, we will be utilizing the [http.client](https://docs.python.org/3/library/http.client.html) library."
      ]
    },
    {
      "cell_type": "markdown",
      "metadata": {
        "id": "VkspyplEZ4sR"
      },
      "source": [
        "As we have learned, the first step to utilizing a library is to  import it into our python script. We will import the `client` object from the `http` module."
      ]
    },
    {
      "cell_type": "code",
      "metadata": {
        "id": "UWFC3bYoYRlx"
      },
      "source": [
        "from http import client"
      ],
      "execution_count": null,
      "outputs": []
    },
    {
      "cell_type": "markdown",
      "metadata": {
        "id": "FJsZPjpqaMnm"
      },
      "source": [
        "Next, we will attempt to create a connection to a host. For the purposes of this demonstration, we will connect to a Fake JSON Api provided to us by [typicode.](https://github.com/typicode)\n",
        "So, let's start by reviewing the [http.client documentation](https://docs.python.org/3/library/http.client.html) and creating a connection object."
      ]
    },
    {
      "cell_type": "code",
      "metadata": {
        "id": "vuasc-tmbAV-"
      },
      "source": [
        "from http import client\n",
        "\n",
        "# Per the documentation, we get a connection object by calling the HTTPConnection() or HTTPSConnection() methods,\n",
        "# with parameters for the address and port.\n",
        "cxn = client.HTTPSConnection('jsonplaceholder.typicode.com', 443)\n",
        "\n",
        "# Let's test our connection by making a HEAD request, validating the HTTP status code, and printing the response headers.\n",
        "cxn.request('HEAD', '/')\n",
        "\n",
        "response = cxn.getresponse()\n",
        "\n",
        "if response.status is 200:\n",
        "  print('Response:',response.status, '🎉🎉🎉', '\\n')\n",
        "else:\n",
        "  print('Uh Oh, got',response.status)\n",
        "\n",
        "print(response.headers)"
      ],
      "execution_count": null,
      "outputs": []
    },
    {
      "cell_type": "markdown",
      "metadata": {
        "id": "_qwpsJKreFSj"
      },
      "source": [
        "Awesome! A 200 status code means everything is g2g. For information about what the different status codes retured from HTTP Requests, [look here.](https://developer.mozilla.org/en-US/docs/Web/HTTP/Status) If you received anything other than a 200 Status code, try reloading the Notebook, ensuring you didn't accidentally make any changes."
      ]
    },
    {
      "cell_type": "markdown",
      "metadata": {
        "id": "1dr6bRGJfK5N"
      },
      "source": [
        "## JSON: The Language of APIs\n",
        "\n",
        "JSON (**J**ava**S**cript **O**bject **N**otation) is a messaging standard that was formalized in 2014 based on specifications of the JavaScript Standard introduced in 1999. In it's simplest form, it is an object containing a collection of `key` and `value` pairs. Values can be any primitive data types such as `boolean`, `integer`, `float`, or `string` but can also be nested `objects` or `arrays`.\n",
        "Almost every language provides an interface to be able to encode or decode JSON objects into a native format.\n",
        "\n",
        "In the case of python, we can decode JSON objects to `dictionaries`, and vice versa. See the example below:"
      ]
    },
    {
      "cell_type": "code",
      "metadata": {
        "id": "tB53-AfEg1sW"
      },
      "source": [
        "import json\n",
        "\n",
        "#Given the following Dictionary\n",
        "values = dict([('first_name', 'Homer'), ('last_name', 'Simpson'), ('city', 'Springfield'), ('occupation', 'Nuclear Technician')])\n",
        "\n",
        "#We can convert a dictionary to using using the json.dumps() method\n",
        "jsonObject = json.dumps(values)\n",
        "print(jsonObject, '\\n')\n",
        "\n",
        "#Alternatively, given JSON, we can convert to a Dictionary object using the json.loads() method\n",
        "dictionary = json.loads(jsonObject)\n",
        "print(dictionary['first_name'], dictionary['last_name'])"
      ],
      "execution_count": null,
      "outputs": []
    },
    {
      "cell_type": "markdown",
      "metadata": {
        "id": "ceieILkVovku"
      },
      "source": [
        "Taking a look at the Documentation for the [fake API](https://jsonplaceholder.typicode.com/), it returns JSON objects for requests it receives. Let's try and combine what we've learned to get the Email Address of the User with ID 10."
      ]
    },
    {
      "cell_type": "code",
      "metadata": {
        "id": "F--Bluq4pY4j"
      },
      "source": [
        "from http import client\n",
        "import json\n",
        "\n",
        "# Per the documentation, we get a connection object by calling the HTTPConnection() or HTTPSConnection() methods,\n",
        "# with parameters for the address and port.\n",
        "cxn = client.HTTPSConnection('jsonplaceholder.typicode.com', 443)\n",
        "\n",
        "# In order to make our request, we will need to modify the method from our previous example to a GET request for the resource at '/users/10'.\n",
        "# When you're ready, uncomment the method call below.\n",
        "# cxn.request('HEAD', '/')\n",
        "\n",
        "response = cxn.getresponse()\n",
        "if response.status is 200:\n",
        "  print('Response:',response.status, '🎉🎉🎉', '\\n')\n",
        "else:\n",
        "  print('Uh Oh, got',response.status)\n",
        "\n",
        "#If everything goes well, this should contain the JSON response from the API.\n",
        "jsonData = response.read().decode()\n",
        "print(jsonData)\n",
        "\n",
        "#Next, go ahead and convert the jsonData string to a Dictionary, and print the email address.\n",
        "#Look at the example above for some pointers on how to accomplish that.\n",
        "\n",
        "#dictionary = ...\n",
        "#print(dictionary['...'])"
      ],
      "execution_count": null,
      "outputs": []
    },
    {
      "cell_type": "markdown",
      "metadata": {
        "id": "pPObsy_av_Ic"
      },
      "source": [
        "## Lab Submission\n",
        "\n",
        "For your Lab Submission, you will create a script that accomplishes the following goals:\n",
        "\n",
        "1.   Review the Documentation for the [PokeApi](https://pokeapi.co/)\n",
        "2.   Make a GET request to the correct endpoint to get information about any Pokemon.\n",
        "3.   Convert that Data from a JSON object to a Dictionary\n",
        "4.   Using that Dictonary, craft a string that will provide the `name`, `weight` and list of names of `types`\n",
        "5. Make an HTTP POST request using the Provided PasteBin API key to upload your crafted string. If successful, you will receive the URL of the PasteBin Document in the response of the POST request.\n",
        "6. That Link, and the code within this Notebook, will be your submission.\n",
        "\n"
      ]
    },
    {
      "cell_type": "code",
      "metadata": {
        "id": "lZswmCEKyHj8",
        "colab": {
          "base_uri": "https://localhost:8080/",
          "height": 380
        },
        "outputId": "4b1239d8-e902-4a13-884f-d4de713b3f02"
      },
      "source": [
        "from http import client\n",
        "import urllib\n",
        "import json\n",
        "\n",
        "#HTTPSConnection() objects for each API and Pastebin\n",
        "PokeApi = client.HTTPSConnection('pokeapi.co', 443)\n",
        "PokeApi.request('Get', '/api/v2/pokemon/151')\n",
        "response = PokeApi.getresponse()\n",
        "\n",
        "#Prints response status\n",
        "print(response.status)\n",
        "\n",
        "#Pastebin\n",
        "PasteBin = client.HTTPSConnection('pastebin.com', 443)\n",
        "\n",
        "#JSON response from the API\n",
        "jsonData = response.read().decode()\n",
        "parsed = json.loads(jsonData)\n",
        "\n",
        "#Convert data to a dictionary and string\n",
        "PokeDictionary = json.loads(jsonData)\n",
        "PokeString = PokeDictionary['name'],dictionary['weight'],dictionary['types'][0]['type']['name']\n",
        "print(\"Pokemon Name:\", PokeDictionary['name'],\"\\nPokemon Weight:\", PokeDictionary['weight'])\n",
        "print(\"Pokemon Type:\",PokeDictionary['types'][0]['type']['name'])\n",
        "\n",
        "#Prints dictionary string\n",
        "Mew = \"Pokemon Name: \"+PokeDictionary['name']+\"\\nPokemon Weight: \"+str(PokeDictionary['weight'])+\"\\nType: \"+PokeDictionary['types'][0]['type']['name']\n",
        "print(Mew)\n",
        "\n",
        "#Pastebin API key\n",
        "PasteBinApi = \"f4R0OTFza_qTQ1NZJYLjoCeLqoHQux4X\"\n",
        "\n",
        "#Refer to the documentation at https://pastebin.com/doc_api for instructions on these parameters\n",
        "requestParams = {\n",
        "    'Api_Dev_Key': PasteBinApi,\n",
        "    'Api_Option': 'paste',\n",
        "    'Api_Paste_Code': Mew,\n",
        "    'Api_Paste_Name': 'MewPokeApi',\n",
        "}\n",
        "\n",
        "#This additional Method call will convert the Dictionary to a URL-Encoded string for PasteBin,\n",
        "#Include this string as the body of your call to the HTTPConnection.request() method for your pasteBin connection.\n",
        "RequestBody = urllib.parse.urlencode(requestParams)\n",
        "\n",
        "#Since we are URLEncoding the request Body, we need to tell Pastebin that it can expect x-www-form-urlencoded content, by adding this information to the request header\n",
        "PasteBinHeaders = {'Content-Type': 'application/x-www-form-urlencoded'}\n",
        "\n",
        "#When you are ready, you will pass the requestBody and the pasteBinHeaders to a pastebin request object, filling in the parameters as necessary.\n",
        "#pasteBinRequest = pasteBin.request(method, url, body=None, headers={})\n",
        "\n",
        "#Pastebin request and response status\n",
        "PasteBin.request('POST', '/api/api_post.php', body=RequestBody, header=PasteBinHeaders)\n",
        "BinResponse = PasteBin.getresponse()\n",
        "print(BinResponse.status, BinResponse.reason)\n",
        "print(BinResponse)\n",
        "PasteUrl = BinResponse.read().decode()\n",
        "print(PasteUrl)\n",
        "\n",
        "\n"
      ],
      "execution_count": 1,
      "outputs": [
        {
          "output_type": "stream",
          "name": "stdout",
          "text": [
            "400\n"
          ]
        },
        {
          "output_type": "error",
          "ename": "JSONDecodeError",
          "evalue": "ignored",
          "traceback": [
            "\u001b[0;31m---------------------------------------------------------------------------\u001b[0m",
            "\u001b[0;31mJSONDecodeError\u001b[0m                           Traceback (most recent call last)",
            "\u001b[0;32m<ipython-input-1-cfeb5744494a>\u001b[0m in \u001b[0;36m<module>\u001b[0;34m()\u001b[0m\n\u001b[1;32m     16\u001b[0m \u001b[0;31m#JSON response from the API\u001b[0m\u001b[0;34m\u001b[0m\u001b[0;34m\u001b[0m\u001b[0;34m\u001b[0m\u001b[0m\n\u001b[1;32m     17\u001b[0m \u001b[0mjsonData\u001b[0m \u001b[0;34m=\u001b[0m \u001b[0mresponse\u001b[0m\u001b[0;34m.\u001b[0m\u001b[0mread\u001b[0m\u001b[0;34m(\u001b[0m\u001b[0;34m)\u001b[0m\u001b[0;34m.\u001b[0m\u001b[0mdecode\u001b[0m\u001b[0;34m(\u001b[0m\u001b[0;34m)\u001b[0m\u001b[0;34m\u001b[0m\u001b[0;34m\u001b[0m\u001b[0m\n\u001b[0;32m---> 18\u001b[0;31m \u001b[0mparsed\u001b[0m \u001b[0;34m=\u001b[0m \u001b[0mjson\u001b[0m\u001b[0;34m.\u001b[0m\u001b[0mloads\u001b[0m\u001b[0;34m(\u001b[0m\u001b[0mjsonData\u001b[0m\u001b[0;34m)\u001b[0m\u001b[0;34m\u001b[0m\u001b[0;34m\u001b[0m\u001b[0m\n\u001b[0m\u001b[1;32m     19\u001b[0m \u001b[0;34m\u001b[0m\u001b[0m\n\u001b[1;32m     20\u001b[0m \u001b[0;31m#Convert data to a dictionary and string\u001b[0m\u001b[0;34m\u001b[0m\u001b[0;34m\u001b[0m\u001b[0;34m\u001b[0m\u001b[0m\n",
            "\u001b[0;32m/usr/lib/python3.7/json/__init__.py\u001b[0m in \u001b[0;36mloads\u001b[0;34m(s, encoding, cls, object_hook, parse_float, parse_int, parse_constant, object_pairs_hook, **kw)\u001b[0m\n\u001b[1;32m    346\u001b[0m             \u001b[0mparse_int\u001b[0m \u001b[0;32mis\u001b[0m \u001b[0;32mNone\u001b[0m \u001b[0;32mand\u001b[0m \u001b[0mparse_float\u001b[0m \u001b[0;32mis\u001b[0m \u001b[0;32mNone\u001b[0m \u001b[0;32mand\u001b[0m\u001b[0;34m\u001b[0m\u001b[0;34m\u001b[0m\u001b[0m\n\u001b[1;32m    347\u001b[0m             parse_constant is None and object_pairs_hook is None and not kw):\n\u001b[0;32m--> 348\u001b[0;31m         \u001b[0;32mreturn\u001b[0m \u001b[0m_default_decoder\u001b[0m\u001b[0;34m.\u001b[0m\u001b[0mdecode\u001b[0m\u001b[0;34m(\u001b[0m\u001b[0ms\u001b[0m\u001b[0;34m)\u001b[0m\u001b[0;34m\u001b[0m\u001b[0;34m\u001b[0m\u001b[0m\n\u001b[0m\u001b[1;32m    349\u001b[0m     \u001b[0;32mif\u001b[0m \u001b[0mcls\u001b[0m \u001b[0;32mis\u001b[0m \u001b[0;32mNone\u001b[0m\u001b[0;34m:\u001b[0m\u001b[0;34m\u001b[0m\u001b[0;34m\u001b[0m\u001b[0m\n\u001b[1;32m    350\u001b[0m         \u001b[0mcls\u001b[0m \u001b[0;34m=\u001b[0m \u001b[0mJSONDecoder\u001b[0m\u001b[0;34m\u001b[0m\u001b[0;34m\u001b[0m\u001b[0m\n",
            "\u001b[0;32m/usr/lib/python3.7/json/decoder.py\u001b[0m in \u001b[0;36mdecode\u001b[0;34m(self, s, _w)\u001b[0m\n\u001b[1;32m    335\u001b[0m \u001b[0;34m\u001b[0m\u001b[0m\n\u001b[1;32m    336\u001b[0m         \"\"\"\n\u001b[0;32m--> 337\u001b[0;31m         \u001b[0mobj\u001b[0m\u001b[0;34m,\u001b[0m \u001b[0mend\u001b[0m \u001b[0;34m=\u001b[0m \u001b[0mself\u001b[0m\u001b[0;34m.\u001b[0m\u001b[0mraw_decode\u001b[0m\u001b[0;34m(\u001b[0m\u001b[0ms\u001b[0m\u001b[0;34m,\u001b[0m \u001b[0midx\u001b[0m\u001b[0;34m=\u001b[0m\u001b[0m_w\u001b[0m\u001b[0;34m(\u001b[0m\u001b[0ms\u001b[0m\u001b[0;34m,\u001b[0m \u001b[0;36m0\u001b[0m\u001b[0;34m)\u001b[0m\u001b[0;34m.\u001b[0m\u001b[0mend\u001b[0m\u001b[0;34m(\u001b[0m\u001b[0;34m)\u001b[0m\u001b[0;34m)\u001b[0m\u001b[0;34m\u001b[0m\u001b[0;34m\u001b[0m\u001b[0m\n\u001b[0m\u001b[1;32m    338\u001b[0m         \u001b[0mend\u001b[0m \u001b[0;34m=\u001b[0m \u001b[0m_w\u001b[0m\u001b[0;34m(\u001b[0m\u001b[0ms\u001b[0m\u001b[0;34m,\u001b[0m \u001b[0mend\u001b[0m\u001b[0;34m)\u001b[0m\u001b[0;34m.\u001b[0m\u001b[0mend\u001b[0m\u001b[0;34m(\u001b[0m\u001b[0;34m)\u001b[0m\u001b[0;34m\u001b[0m\u001b[0;34m\u001b[0m\u001b[0m\n\u001b[1;32m    339\u001b[0m         \u001b[0;32mif\u001b[0m \u001b[0mend\u001b[0m \u001b[0;34m!=\u001b[0m \u001b[0mlen\u001b[0m\u001b[0;34m(\u001b[0m\u001b[0ms\u001b[0m\u001b[0;34m)\u001b[0m\u001b[0;34m:\u001b[0m\u001b[0;34m\u001b[0m\u001b[0;34m\u001b[0m\u001b[0m\n",
            "\u001b[0;32m/usr/lib/python3.7/json/decoder.py\u001b[0m in \u001b[0;36mraw_decode\u001b[0;34m(self, s, idx)\u001b[0m\n\u001b[1;32m    353\u001b[0m             \u001b[0mobj\u001b[0m\u001b[0;34m,\u001b[0m \u001b[0mend\u001b[0m \u001b[0;34m=\u001b[0m \u001b[0mself\u001b[0m\u001b[0;34m.\u001b[0m\u001b[0mscan_once\u001b[0m\u001b[0;34m(\u001b[0m\u001b[0ms\u001b[0m\u001b[0;34m,\u001b[0m \u001b[0midx\u001b[0m\u001b[0;34m)\u001b[0m\u001b[0;34m\u001b[0m\u001b[0;34m\u001b[0m\u001b[0m\n\u001b[1;32m    354\u001b[0m         \u001b[0;32mexcept\u001b[0m \u001b[0mStopIteration\u001b[0m \u001b[0;32mas\u001b[0m \u001b[0merr\u001b[0m\u001b[0;34m:\u001b[0m\u001b[0;34m\u001b[0m\u001b[0;34m\u001b[0m\u001b[0m\n\u001b[0;32m--> 355\u001b[0;31m             \u001b[0;32mraise\u001b[0m \u001b[0mJSONDecodeError\u001b[0m\u001b[0;34m(\u001b[0m\u001b[0;34m\"Expecting value\"\u001b[0m\u001b[0;34m,\u001b[0m \u001b[0ms\u001b[0m\u001b[0;34m,\u001b[0m \u001b[0merr\u001b[0m\u001b[0;34m.\u001b[0m\u001b[0mvalue\u001b[0m\u001b[0;34m)\u001b[0m \u001b[0;32mfrom\u001b[0m \u001b[0;32mNone\u001b[0m\u001b[0;34m\u001b[0m\u001b[0;34m\u001b[0m\u001b[0m\n\u001b[0m\u001b[1;32m    356\u001b[0m         \u001b[0;32mreturn\u001b[0m \u001b[0mobj\u001b[0m\u001b[0;34m,\u001b[0m \u001b[0mend\u001b[0m\u001b[0;34m\u001b[0m\u001b[0;34m\u001b[0m\u001b[0m\n",
            "\u001b[0;31mJSONDecodeError\u001b[0m: Expecting value: line 1 column 1 (char 0)"
          ]
        }
      ]
    }
  ]
}